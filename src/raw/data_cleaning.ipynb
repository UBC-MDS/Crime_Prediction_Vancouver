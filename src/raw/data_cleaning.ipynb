{
 "cells": [
  {
   "cell_type": "code",
   "execution_count": 1,
   "id": "83e91b49-415f-498b-9738-87eb66433305",
   "metadata": {},
   "outputs": [],
   "source": [
    "import altair as alt\n",
    "import pandas as pd\n",
    "import numpy as np\n",
    "from sklearn.model_selection import train_test_split\n",
    "alt.data_transformers.enable('data_server')\n",
    "alt.renderers.enable('mimetype')\n",
    "import random"
   ]
  },
  {
   "cell_type": "code",
   "execution_count": 2,
   "id": "b1a9cd4e-3dea-468a-a31a-9dda809f1582",
   "metadata": {},
   "outputs": [],
   "source": [
    "df = pd.read_csv('../data/raw/crimedata_csv_all_years.csv')\n",
    "df = df.query('YEAR <=2020')"
   ]
  },
  {
   "cell_type": "code",
   "execution_count": 3,
   "id": "4ebd26c7-26cf-48de-b6dc-59c794b236c1",
   "metadata": {},
   "outputs": [],
   "source": [
    "train_df, test_df = train_test_split(df, test_size=0.20, random_state=123)"
   ]
  },
  {
   "cell_type": "code",
   "execution_count": 12,
   "id": "0c9e284c-0cec-4ef9-8a37-a93987256880",
   "metadata": {},
   "outputs": [
    {
     "data": {
      "text/html": [
       "<div>\n",
       "<style scoped>\n",
       "    .dataframe tbody tr th:only-of-type {\n",
       "        vertical-align: middle;\n",
       "    }\n",
       "\n",
       "    .dataframe tbody tr th {\n",
       "        vertical-align: top;\n",
       "    }\n",
       "\n",
       "    .dataframe thead th {\n",
       "        text-align: right;\n",
       "    }\n",
       "</style>\n",
       "<table border=\"1\" class=\"dataframe\">\n",
       "  <thead>\n",
       "    <tr style=\"text-align: right;\">\n",
       "      <th></th>\n",
       "      <th>TYPE</th>\n",
       "      <th>YEAR</th>\n",
       "      <th>MONTH</th>\n",
       "      <th>DAY</th>\n",
       "      <th>HOUR</th>\n",
       "      <th>MINUTE</th>\n",
       "      <th>HUNDRED_BLOCK</th>\n",
       "      <th>NEIGHBOURHOOD</th>\n",
       "      <th>X</th>\n",
       "      <th>Y</th>\n",
       "    </tr>\n",
       "  </thead>\n",
       "  <tbody>\n",
       "    <tr>\n",
       "      <th>571722</th>\n",
       "      <td>Theft from Vehicle</td>\n",
       "      <td>2004</td>\n",
       "      <td>6</td>\n",
       "      <td>27</td>\n",
       "      <td>22</td>\n",
       "      <td>15</td>\n",
       "      <td>30XX BIRCH ST</td>\n",
       "      <td>Fairview</td>\n",
       "      <td>490261.0071</td>\n",
       "      <td>5.456233e+06</td>\n",
       "    </tr>\n",
       "    <tr>\n",
       "      <th>386034</th>\n",
       "      <td>Other Theft</td>\n",
       "      <td>2016</td>\n",
       "      <td>7</td>\n",
       "      <td>11</td>\n",
       "      <td>12</td>\n",
       "      <td>18</td>\n",
       "      <td>44XX OAK ST</td>\n",
       "      <td>South Cambie</td>\n",
       "      <td>490713.7147</td>\n",
       "      <td>5.454766e+06</td>\n",
       "    </tr>\n",
       "    <tr>\n",
       "      <th>152517</th>\n",
       "      <td>Mischief</td>\n",
       "      <td>2003</td>\n",
       "      <td>3</td>\n",
       "      <td>19</td>\n",
       "      <td>0</td>\n",
       "      <td>53</td>\n",
       "      <td>29XX RUPERT ST</td>\n",
       "      <td>Renfrew-Collingwood</td>\n",
       "      <td>497550.7640</td>\n",
       "      <td>5.456132e+06</td>\n",
       "    </tr>\n",
       "    <tr>\n",
       "      <th>697428</th>\n",
       "      <td>Theft from Vehicle</td>\n",
       "      <td>2020</td>\n",
       "      <td>2</td>\n",
       "      <td>13</td>\n",
       "      <td>18</td>\n",
       "      <td>45</td>\n",
       "      <td>NELSON ST / SEYMOUR ST</td>\n",
       "      <td>Central Business District</td>\n",
       "      <td>491125.6602</td>\n",
       "      <td>5.458434e+06</td>\n",
       "    </tr>\n",
       "    <tr>\n",
       "      <th>534239</th>\n",
       "      <td>Theft from Vehicle</td>\n",
       "      <td>2003</td>\n",
       "      <td>1</td>\n",
       "      <td>26</td>\n",
       "      <td>23</td>\n",
       "      <td>0</td>\n",
       "      <td>1XX KEEFER PL</td>\n",
       "      <td>Central Business District</td>\n",
       "      <td>492122.6441</td>\n",
       "      <td>5.458572e+06</td>\n",
       "    </tr>\n",
       "  </tbody>\n",
       "</table>\n",
       "</div>"
      ],
      "text/plain": [
       "                      TYPE  YEAR  MONTH  DAY  HOUR  MINUTE  \\\n",
       "571722  Theft from Vehicle  2004      6   27    22      15   \n",
       "386034         Other Theft  2016      7   11    12      18   \n",
       "152517            Mischief  2003      3   19     0      53   \n",
       "697428  Theft from Vehicle  2020      2   13    18      45   \n",
       "534239  Theft from Vehicle  2003      1   26    23       0   \n",
       "\n",
       "                 HUNDRED_BLOCK              NEIGHBOURHOOD            X  \\\n",
       "571722           30XX BIRCH ST                   Fairview  490261.0071   \n",
       "386034             44XX OAK ST               South Cambie  490713.7147   \n",
       "152517          29XX RUPERT ST        Renfrew-Collingwood  497550.7640   \n",
       "697428  NELSON ST / SEYMOUR ST  Central Business District  491125.6602   \n",
       "534239           1XX KEEFER PL  Central Business District  492122.6441   \n",
       "\n",
       "                   Y  \n",
       "571722  5.456233e+06  \n",
       "386034  5.454766e+06  \n",
       "152517  5.456132e+06  \n",
       "697428  5.458434e+06  \n",
       "534239  5.458572e+06  "
      ]
     },
     "execution_count": 12,
     "metadata": {},
     "output_type": "execute_result"
    }
   ],
   "source": [
    "train_df.head()"
   ]
  },
  {
   "cell_type": "code",
   "execution_count": 13,
   "id": "50020636-ebbe-4bf0-817f-82f9759f9d6b",
   "metadata": {},
   "outputs": [
    {
     "data": {
      "text/html": [
       "<div>\n",
       "<style scoped>\n",
       "    .dataframe tbody tr th:only-of-type {\n",
       "        vertical-align: middle;\n",
       "    }\n",
       "\n",
       "    .dataframe tbody tr th {\n",
       "        vertical-align: top;\n",
       "    }\n",
       "\n",
       "    .dataframe thead th {\n",
       "        text-align: right;\n",
       "    }\n",
       "</style>\n",
       "<table border=\"1\" class=\"dataframe\">\n",
       "  <thead>\n",
       "    <tr style=\"text-align: right;\">\n",
       "      <th></th>\n",
       "      <th>TYPE</th>\n",
       "      <th>YEAR</th>\n",
       "      <th>MONTH</th>\n",
       "      <th>DAY</th>\n",
       "      <th>MINUTE</th>\n",
       "      <th>HUNDRED_BLOCK</th>\n",
       "      <th>NEIGHBOURHOOD</th>\n",
       "      <th>X</th>\n",
       "      <th>Y</th>\n",
       "    </tr>\n",
       "    <tr>\n",
       "      <th>HOUR</th>\n",
       "      <th></th>\n",
       "      <th></th>\n",
       "      <th></th>\n",
       "      <th></th>\n",
       "      <th></th>\n",
       "      <th></th>\n",
       "      <th></th>\n",
       "      <th></th>\n",
       "      <th></th>\n",
       "    </tr>\n",
       "  </thead>\n",
       "  <tbody>\n",
       "    <tr>\n",
       "      <th>0</th>\n",
       "      <td>29788</td>\n",
       "      <td>29788</td>\n",
       "      <td>29788</td>\n",
       "      <td>29788</td>\n",
       "      <td>29788</td>\n",
       "      <td>29788</td>\n",
       "      <td>29778</td>\n",
       "      <td>29788</td>\n",
       "      <td>29788</td>\n",
       "    </tr>\n",
       "    <tr>\n",
       "      <th>1</th>\n",
       "      <td>17735</td>\n",
       "      <td>17735</td>\n",
       "      <td>17735</td>\n",
       "      <td>17735</td>\n",
       "      <td>17735</td>\n",
       "      <td>17735</td>\n",
       "      <td>17732</td>\n",
       "      <td>17734</td>\n",
       "      <td>17734</td>\n",
       "    </tr>\n",
       "    <tr>\n",
       "      <th>2</th>\n",
       "      <td>14600</td>\n",
       "      <td>14600</td>\n",
       "      <td>14600</td>\n",
       "      <td>14600</td>\n",
       "      <td>14600</td>\n",
       "      <td>14600</td>\n",
       "      <td>14596</td>\n",
       "      <td>14599</td>\n",
       "      <td>14599</td>\n",
       "    </tr>\n",
       "    <tr>\n",
       "      <th>3</th>\n",
       "      <td>12677</td>\n",
       "      <td>12677</td>\n",
       "      <td>12677</td>\n",
       "      <td>12677</td>\n",
       "      <td>12677</td>\n",
       "      <td>12677</td>\n",
       "      <td>12673</td>\n",
       "      <td>12674</td>\n",
       "      <td>12674</td>\n",
       "    </tr>\n",
       "    <tr>\n",
       "      <th>4</th>\n",
       "      <td>11576</td>\n",
       "      <td>11576</td>\n",
       "      <td>11576</td>\n",
       "      <td>11576</td>\n",
       "      <td>11576</td>\n",
       "      <td>11575</td>\n",
       "      <td>11576</td>\n",
       "      <td>11576</td>\n",
       "      <td>11576</td>\n",
       "    </tr>\n",
       "  </tbody>\n",
       "</table>\n",
       "</div>"
      ],
      "text/plain": [
       "       TYPE   YEAR  MONTH    DAY  MINUTE  HUNDRED_BLOCK  NEIGHBOURHOOD      X  \\\n",
       "HOUR                                                                            \n",
       "0     29788  29788  29788  29788   29788          29788          29778  29788   \n",
       "1     17735  17735  17735  17735   17735          17735          17732  17734   \n",
       "2     14600  14600  14600  14600   14600          14600          14596  14599   \n",
       "3     12677  12677  12677  12677   12677          12677          12673  12674   \n",
       "4     11576  11576  11576  11576   11576          11575          11576  11576   \n",
       "\n",
       "          Y  \n",
       "HOUR         \n",
       "0     29788  \n",
       "1     17734  \n",
       "2     14599  \n",
       "3     12674  \n",
       "4     11576  "
      ]
     },
     "execution_count": 13,
     "metadata": {},
     "output_type": "execute_result"
    }
   ],
   "source": [
    "train_df.groupby('HOUR').count().head()"
   ]
  },
  {
   "cell_type": "code",
   "execution_count": 14,
   "id": "ab797f9d-c644-4452-92a4-8eb2472e1b6d",
   "metadata": {},
   "outputs": [
    {
     "data": {
      "application/vnd.vegalite.v4+json": {
       "$schema": "https://vega.github.io/schema/vega-lite/v4.8.1.json",
       "config": {
        "view": {
         "continuousHeight": 300,
         "continuousWidth": 400
        }
       },
       "data": {
        "url": "http://localhost:20453/484242ef73f6a4b3ed4d1a5f89464f3f.json"
       },
       "encoding": {
        "x": {
         "axis": {
          "format": "d"
         },
         "field": "HOUR",
         "scale": {
          "domain": [
           0,
           23
          ]
         },
         "title": "Hour of the Crime",
         "type": "quantitative"
        },
        "y": {
         "aggregate": "count",
         "title": "Number of Crimes",
         "type": "quantitative"
        }
       },
       "mark": {
        "clip": true,
        "type": "bar"
       },
       "title": "Hour of Crimes in Vancouver"
      },
      "image/png": "[encoded data removed]",
      "text/plain": [
       "<VegaLite 4 object>\n",
       "\n",
       "If you see this message, it means the renderer has not been properly enabled\n",
       "for the frontend that you are using. For more information, see\n",
       "https://altair-viz.github.io/user_guide/troubleshooting.html\n"
      ]
     },
     "execution_count": 14,
     "metadata": {},
     "output_type": "execute_result"
    }
   ],
   "source": [
    "alt.Chart(train_df, title=\"Hour of Crimes in Vancouver\").mark_bar(clip=True).encode(\n",
    "    x=alt.X(\n",
    "        \"HOUR\",\n",
    "        title=\"Hour of the Crime\",\n",
    "        scale=alt.Scale(domain=(0, 23)),\n",
    "        axis=alt.Axis(format=\"d\")\n",
    "        ,\n",
    "    ),\n",
    "    y=alt.Y(\"count()\", title=\"Number of Crimes\"),\n",
    ")"
   ]
  },
  {
   "cell_type": "code",
   "execution_count": 8,
   "id": "9e555f57-28a2-4622-b586-7611caeba534",
   "metadata": {},
   "outputs": [
    {
     "data": {
      "text/plain": [
       "59756"
      ]
     },
     "execution_count": 8,
     "metadata": {},
     "output_type": "execute_result"
    }
   ],
   "source": [
    "rebase_zero_hour_count = len(train_df.query(\"HOUR == 0\")) - int(len(train_df[\"HOUR\"]!=0)/23)\n",
    "rebase_zero_hour_index = train_df[train_df[\"HOUR\"]==0].sample(rebase_zero_hour_count).index\n",
    "rebase_zero_hour_count"
   ]
  },
  {
   "cell_type": "code",
   "execution_count": 9,
   "id": "34002605-fe81-4b84-a5dc-1fc4c6675819",
   "metadata": {},
   "outputs": [],
   "source": [
    "train_df.loc[rebase_zero_hour_index, 'HOUR'] = np.random.randint(0, 24, rebase_zero_hour_count)"
   ]
  },
  {
   "cell_type": "code",
   "execution_count": 10,
   "id": "7462d678-dae4-41e5-9309-88a9049f2219",
   "metadata": {},
   "outputs": [
    {
     "data": {
      "text/html": [
       "<div>\n",
       "<style scoped>\n",
       "    .dataframe tbody tr th:only-of-type {\n",
       "        vertical-align: middle;\n",
       "    }\n",
       "\n",
       "    .dataframe tbody tr th {\n",
       "        vertical-align: top;\n",
       "    }\n",
       "\n",
       "    .dataframe thead th {\n",
       "        text-align: right;\n",
       "    }\n",
       "</style>\n",
       "<table border=\"1\" class=\"dataframe\">\n",
       "  <thead>\n",
       "    <tr style=\"text-align: right;\">\n",
       "      <th></th>\n",
       "      <th>TYPE</th>\n",
       "      <th>YEAR</th>\n",
       "      <th>MONTH</th>\n",
       "      <th>DAY</th>\n",
       "      <th>MINUTE</th>\n",
       "      <th>HUNDRED_BLOCK</th>\n",
       "      <th>NEIGHBOURHOOD</th>\n",
       "      <th>X</th>\n",
       "      <th>Y</th>\n",
       "    </tr>\n",
       "    <tr>\n",
       "      <th>HOUR</th>\n",
       "      <th></th>\n",
       "      <th></th>\n",
       "      <th></th>\n",
       "      <th></th>\n",
       "      <th></th>\n",
       "      <th></th>\n",
       "      <th></th>\n",
       "      <th></th>\n",
       "      <th></th>\n",
       "    </tr>\n",
       "  </thead>\n",
       "  <tbody>\n",
       "    <tr>\n",
       "      <th>0</th>\n",
       "      <td>29788</td>\n",
       "      <td>29788</td>\n",
       "      <td>29788</td>\n",
       "      <td>29788</td>\n",
       "      <td>29788</td>\n",
       "      <td>29788</td>\n",
       "      <td>29778</td>\n",
       "      <td>29788</td>\n",
       "      <td>29788</td>\n",
       "    </tr>\n",
       "    <tr>\n",
       "      <th>1</th>\n",
       "      <td>17735</td>\n",
       "      <td>17735</td>\n",
       "      <td>17735</td>\n",
       "      <td>17735</td>\n",
       "      <td>17735</td>\n",
       "      <td>17735</td>\n",
       "      <td>17732</td>\n",
       "      <td>17734</td>\n",
       "      <td>17734</td>\n",
       "    </tr>\n",
       "    <tr>\n",
       "      <th>2</th>\n",
       "      <td>14600</td>\n",
       "      <td>14600</td>\n",
       "      <td>14600</td>\n",
       "      <td>14600</td>\n",
       "      <td>14600</td>\n",
       "      <td>14600</td>\n",
       "      <td>14596</td>\n",
       "      <td>14599</td>\n",
       "      <td>14599</td>\n",
       "    </tr>\n",
       "    <tr>\n",
       "      <th>3</th>\n",
       "      <td>12677</td>\n",
       "      <td>12677</td>\n",
       "      <td>12677</td>\n",
       "      <td>12677</td>\n",
       "      <td>12677</td>\n",
       "      <td>12677</td>\n",
       "      <td>12673</td>\n",
       "      <td>12674</td>\n",
       "      <td>12674</td>\n",
       "    </tr>\n",
       "    <tr>\n",
       "      <th>4</th>\n",
       "      <td>11576</td>\n",
       "      <td>11576</td>\n",
       "      <td>11576</td>\n",
       "      <td>11576</td>\n",
       "      <td>11576</td>\n",
       "      <td>11575</td>\n",
       "      <td>11576</td>\n",
       "      <td>11576</td>\n",
       "      <td>11576</td>\n",
       "    </tr>\n",
       "  </tbody>\n",
       "</table>\n",
       "</div>"
      ],
      "text/plain": [
       "       TYPE   YEAR  MONTH    DAY  MINUTE  HUNDRED_BLOCK  NEIGHBOURHOOD      X  \\\n",
       "HOUR                                                                            \n",
       "0     29788  29788  29788  29788   29788          29788          29778  29788   \n",
       "1     17735  17735  17735  17735   17735          17735          17732  17734   \n",
       "2     14600  14600  14600  14600   14600          14600          14596  14599   \n",
       "3     12677  12677  12677  12677   12677          12677          12673  12674   \n",
       "4     11576  11576  11576  11576   11576          11575          11576  11576   \n",
       "\n",
       "          Y  \n",
       "HOUR         \n",
       "0     29788  \n",
       "1     17734  \n",
       "2     14599  \n",
       "3     12674  \n",
       "4     11576  "
      ]
     },
     "execution_count": 10,
     "metadata": {},
     "output_type": "execute_result"
    }
   ],
   "source": [
    "train_df.groupby('HOUR').count().head()"
   ]
  },
  {
   "cell_type": "code",
   "execution_count": 11,
   "id": "22cec853-7c6b-467e-848f-afb76ed2da53",
   "metadata": {},
   "outputs": [
    {
     "data": {
      "application/vnd.vegalite.v4+json": {
       "$schema": "https://vega.github.io/schema/vega-lite/v4.8.1.json",
       "config": {
        "view": {
         "continuousHeight": 300,
         "continuousWidth": 400
        }
       },
       "data": {
        "url": "http://localhost:20453/484242ef73f6a4b3ed4d1a5f89464f3f.json"
       },
       "encoding": {
        "x": {
         "axis": {
          "format": "d"
         },
         "field": "HOUR",
         "scale": {
          "domain": [
           0,
           23
          ]
         },
         "title": "Hour of the Crime",
         "type": "quantitative"
        },
        "y": {
         "aggregate": "count",
         "title": "Number of Crimes",
         "type": "quantitative"
        }
       },
       "mark": {
        "clip": true,
        "type": "bar"
       },
       "title": "Hour of Crimes in Vancouver"
      },
      "image/png": "[encoded data removed]",
      "text/plain": [
       "<VegaLite 4 object>\n",
       "\n",
       "If you see this message, it means the renderer has not been properly enabled\n",
       "for the frontend that you are using. For more information, see\n",
       "https://altair-viz.github.io/user_guide/troubleshooting.html\n"
      ]
     },
     "execution_count": 11,
     "metadata": {},
     "output_type": "execute_result"
    }
   ],
   "source": [
    "alt.Chart(train_df, title=\"Hour of Crimes in Vancouver\").mark_bar(clip=True).encode(\n",
    "    x=alt.X(\n",
    "        \"HOUR\",\n",
    "        title=\"Hour of the Crime\",\n",
    "        scale=alt.Scale(domain=(0, 23)),\n",
    "        axis=alt.Axis(format=\"d\")\n",
    "        ,\n",
    "    ),\n",
    "    y=alt.Y(\"count()\", title=\"Number of Crimes\"),\n",
    ")"
   ]
  },
  {
   "cell_type": "code",
   "execution_count": null,
   "id": "38055378-de7d-468e-8abc-8a2b563260f2",
   "metadata": {},
   "outputs": [],
   "source": []
  },
  {
   "cell_type": "code",
   "execution_count": null,
   "id": "f12c88a6-a809-4e3c-a717-5fffe4d3e5b3",
   "metadata": {},
   "outputs": [],
   "source": [
    "df.to_csv('../data/processed/crimedata_processed.csv')"
   ]
  }
 ],
 "metadata": {
  "kernelspec": {
   "display_name": "Python [conda env:crime_predictor]",
   "language": "python",
   "name": "conda-env-crime_predictor-py"
  },
  "language_info": {
   "codemirror_mode": {
    "name": "ipython",
    "version": 3
   },
   "file_extension": ".py",
   "mimetype": "text/x-python",
   "name": "python",
   "nbconvert_exporter": "python",
   "pygments_lexer": "ipython3",
   "version": "3.9.7"
  }
 },
 "nbformat": 4,
 "nbformat_minor": 5
}

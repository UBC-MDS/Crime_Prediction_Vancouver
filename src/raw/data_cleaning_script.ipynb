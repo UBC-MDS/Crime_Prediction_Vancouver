{
 "cells": [
  {
   "cell_type": "code",
   "execution_count": 1,
   "id": "83e91b49-415f-498b-9738-87eb66433305",
   "metadata": {},
   "outputs": [],
   "source": [
    "import altair as alt\n",
    "import pandas as pd\n",
    "import numpy as np\n",
    "from sklearn.model_selection import train_test_split\n",
    "alt.data_transformers.enable('data_server')\n",
    "alt.renderers.enable('mimetype')\n",
    "import random\n",
    "from sklearn.compose import ColumnTransformer, make_column_transformer\n",
    "from sklearn.dummy import DummyClassifier, DummyRegressor\n",
    "from sklearn.ensemble import RandomForestClassifier, RandomForestRegressor\n",
    "from sklearn.feature_extraction.text import CountVectorizer\n",
    "from sklearn.impute import SimpleImputer\n",
    "from sklearn.linear_model import LogisticRegression, Ridge, RidgeCV, RidgeClassifier\n",
    "from sklearn.model_selection import (\n",
    "    GridSearchCV,\n",
    "    RandomizedSearchCV,\n",
    "    ShuffleSplit,\n",
    "    cross_val_score,\n",
    "    cross_validate,\n",
    "    train_test_split,\n",
    ")\n",
    "from sklearn.pipeline import Pipeline, make_pipeline\n",
    "from sklearn.preprocessing import (\n",
    "    OneHotEncoder,\n",
    "    OrdinalEncoder,\n",
    "    PolynomialFeatures,\n",
    "    StandardScaler,\n",
    ")\n",
    "from sklearn.svm import SVC, SVR\n",
    "from sklearn.metrics import make_scorer\n",
    "from sklearn.metrics import accuracy_score, f1_score, precision_score, recall_score, roc_auc_score, average_precision_score, balanced_accuracy_score\n",
    "from sklearn.metrics import confusion_matrix\n",
    "from sklearn.metrics import ConfusionMatrixDisplay\n",
    "import pickle"
   ]
  },
  {
   "cell_type": "code",
   "execution_count": 2,
   "id": "b1a9cd4e-3dea-468a-a31a-9dda809f1582",
   "metadata": {},
   "outputs": [],
   "source": [
    "X_train = pd.read_csv('../data/processed/training_feature.csv', index_col=\"index\")\n",
    "y_train = pd.read_csv('../data/processed/training_target.csv', index_col=\"index\").loc[:,\"TYPE\"]\n",
    "\n",
    "X_test = pd.read_csv('../data/processed/test_feature.csv', index_col=\"index\")\n",
    "y_test = pd.read_csv('../data/processed/test_target.csv', index_col=\"index\").loc[:,\"TYPE\"]"
   ]
  },
  {
   "cell_type": "code",
   "execution_count": 3,
   "id": "4ebd26c7-26cf-48de-b6dc-59c794b236c1",
   "metadata": {},
   "outputs": [],
   "source": [
    "file = open('../data/processed/preprocessor.p', 'rb')\n",
    "preprocessor = pickle.load(file)"
   ]
  },
  {
   "cell_type": "code",
   "execution_count": 22,
   "id": "a1f793e2-4639-4fab-8472-cf9177e6b8cc",
   "metadata": {},
   "outputs": [],
   "source": [
    "f1_scorer = make_scorer(f1_score, average='micro')"
   ]
  },
  {
   "cell_type": "code",
   "execution_count": 23,
   "id": "a0d9494a-68c7-4fd8-85fd-5acb81cb6e61",
   "metadata": {},
   "outputs": [],
   "source": [
    "scoring_metrics = {\n",
    "    \"f1\": f1_scorer,\n",
    "}"
   ]
  },
  {
   "cell_type": "code",
   "execution_count": 24,
   "id": "1a03156e-7e7a-4087-b4d2-a12fff8cd211",
   "metadata": {},
   "outputs": [],
   "source": [
    "results = {}"
   ]
  },
  {
   "cell_type": "code",
   "execution_count": 25,
   "id": "630b2f37-23b9-4cfa-a730-901d1b6bc2b4",
   "metadata": {},
   "outputs": [],
   "source": [
    "## Adopted from lecture notes of DSCI 571 and DSCI 573\n",
    "\n",
    "def mean_std_cross_val_scores(model, X_train, y_train, **kwargs):\n",
    "    \"\"\"\n",
    "    Returns mean and std of cross validation\n",
    "\n",
    "    Parameters\n",
    "    ----------\n",
    "    model :\n",
    "        scikit-learn model\n",
    "    X_train : numpy array or pandas DataFrame\n",
    "        X in the training data\n",
    "    y_train :\n",
    "        y in the training data\n",
    "\n",
    "    Returns\n",
    "    ----------\n",
    "        pandas Series with mean scores from cross_validation\n",
    "    \"\"\"\n",
    "\n",
    "    scores = cross_validate(model, X_train, y_train, **kwargs)\n",
    "\n",
    "    mean_scores = pd.DataFrame(scores).mean()\n",
    "    std_scores = pd.DataFrame(scores).std()\n",
    "    out_col = []\n",
    "\n",
    "    for i in range(len(mean_scores)):\n",
    "        out_col.append((f\"%0.3f (+/- %0.3f)\" % (mean_scores[i], std_scores[i])))\n",
    "\n",
    "    return pd.Series(data=out_col, index=mean_scores.index)"
   ]
  },
  {
   "cell_type": "code",
   "execution_count": 26,
   "id": "9fb04587-3834-4f88-8b35-41f37bf9a673",
   "metadata": {},
   "outputs": [
    {
     "data": {
      "text/html": [
       "<div>\n",
       "<style scoped>\n",
       "    .dataframe tbody tr th:only-of-type {\n",
       "        vertical-align: middle;\n",
       "    }\n",
       "\n",
       "    .dataframe tbody tr th {\n",
       "        vertical-align: top;\n",
       "    }\n",
       "\n",
       "    .dataframe thead th {\n",
       "        text-align: right;\n",
       "    }\n",
       "</style>\n",
       "<table border=\"1\" class=\"dataframe\">\n",
       "  <thead>\n",
       "    <tr style=\"text-align: right;\">\n",
       "      <th></th>\n",
       "      <th>fit_time</th>\n",
       "      <th>score_time</th>\n",
       "      <th>test_f1</th>\n",
       "      <th>train_f1</th>\n",
       "    </tr>\n",
       "  </thead>\n",
       "  <tbody>\n",
       "    <tr>\n",
       "      <th>dummy</th>\n",
       "      <td>0.061 (+/- 0.010)</td>\n",
       "      <td>0.042 (+/- 0.002)</td>\n",
       "      <td>0.277 (+/- 0.000)</td>\n",
       "      <td>0.277 (+/- 0.000)</td>\n",
       "    </tr>\n",
       "  </tbody>\n",
       "</table>\n",
       "</div>"
      ],
      "text/plain": [
       "                fit_time         score_time            test_f1  \\\n",
       "dummy  0.061 (+/- 0.010)  0.042 (+/- 0.002)  0.277 (+/- 0.000)   \n",
       "\n",
       "                train_f1  \n",
       "dummy  0.277 (+/- 0.000)  "
      ]
     },
     "execution_count": 26,
     "metadata": {},
     "output_type": "execute_result"
    }
   ],
   "source": [
    "pipe = make_pipeline(preprocessor, DummyClassifier())\n",
    "\n",
    "results[\"dummy\"] = mean_std_cross_val_scores(\n",
    "    pipe, X_train, y_train, cv=5, return_train_score=True, scoring=scoring_metrics\n",
    ")\n",
    "\n",
    "results = pd.DataFrame(results)\n",
    "results.T"
   ]
  },
  {
   "cell_type": "code",
   "execution_count": 28,
   "id": "7d5672b5-f891-428c-8aec-cd7b783b2c61",
   "metadata": {},
   "outputs": [
    {
     "data": {
      "text/html": [
       "<div>\n",
       "<style scoped>\n",
       "    .dataframe tbody tr th:only-of-type {\n",
       "        vertical-align: middle;\n",
       "    }\n",
       "\n",
       "    .dataframe tbody tr th {\n",
       "        vertical-align: top;\n",
       "    }\n",
       "\n",
       "    .dataframe thead th {\n",
       "        text-align: right;\n",
       "    }\n",
       "</style>\n",
       "<table border=\"1\" class=\"dataframe\">\n",
       "  <thead>\n",
       "    <tr style=\"text-align: right;\">\n",
       "      <th></th>\n",
       "      <th>fit_time</th>\n",
       "      <th>score_time</th>\n",
       "      <th>test_f1</th>\n",
       "      <th>train_f1</th>\n",
       "    </tr>\n",
       "  </thead>\n",
       "  <tbody>\n",
       "    <tr>\n",
       "      <th>dummy</th>\n",
       "      <td>0.061 (+/- 0.010)</td>\n",
       "      <td>0.042 (+/- 0.002)</td>\n",
       "      <td>0.277 (+/- 0.000)</td>\n",
       "      <td>0.277 (+/- 0.000)</td>\n",
       "    </tr>\n",
       "    <tr>\n",
       "      <th>Logistic Regression</th>\n",
       "      <td>6.664 (+/- 0.168)</td>\n",
       "      <td>0.093 (+/- 0.003)</td>\n",
       "      <td>0.472 (+/- 0.001)</td>\n",
       "      <td>0.479 (+/- 0.001)</td>\n",
       "    </tr>\n",
       "  </tbody>\n",
       "</table>\n",
       "</div>"
      ],
      "text/plain": [
       "                              fit_time         score_time            test_f1  \\\n",
       "dummy                0.061 (+/- 0.010)  0.042 (+/- 0.002)  0.277 (+/- 0.000)   \n",
       "Logistic Regression  6.664 (+/- 0.168)  0.093 (+/- 0.003)  0.472 (+/- 0.001)   \n",
       "\n",
       "                              train_f1  \n",
       "dummy                0.277 (+/- 0.000)  \n",
       "Logistic Regression  0.479 (+/- 0.001)  "
      ]
     },
     "execution_count": 28,
     "metadata": {},
     "output_type": "execute_result"
    }
   ],
   "source": [
    "pipe = make_pipeline(preprocessor, LogisticRegression(max_iter=1000, multi_class=\"ovr\"))\n",
    "\n",
    "results[\"Logistic Regression\"] = mean_std_cross_val_scores(\n",
    "    pipe, X_train, y_train, cv=5, return_train_score=True, scoring=scoring_metrics\n",
    ")\n",
    "\n",
    "results = pd.DataFrame(results)\n",
    "results.T"
   ]
  },
  {
   "cell_type": "code",
   "execution_count": 29,
   "id": "dfc17b65-fbdc-4e53-8124-d89bb8910fd8",
   "metadata": {},
   "outputs": [
    {
     "data": {
      "image/png": "[encoded data removed]",
      "text/plain": [
       "<Figure size 432x288 with 2 Axes>"
      ]
     },
     "metadata": {
      "needs_background": "light"
     },
     "output_type": "display_data"
    }
   ],
   "source": [
    "pipe.fit(X_train, y_train)\n",
    "cm = ConfusionMatrixDisplay.from_estimator(\n",
    "    pipe, X_test, y_test, values_format=\"d\", display_labels=pipe.classes_\n",
    ")"
   ]
  },
  {
   "cell_type": "code",
   "execution_count": 30,
   "id": "ab485de3-f354-49db-9109-a7947b1f1900",
   "metadata": {},
   "outputs": [
    {
     "name": "stdout",
     "output_type": "stream",
     "text": [
      "                                                        precision    recall  f1-score   support\n",
      "\n",
      "                            Break and Enter Commercial       0.33      0.16      0.22       526\n",
      "                     Break and Enter Residential/Other       0.31      0.08      0.12       390\n",
      "                                              Homicide       0.00      0.00      0.00         6\n",
      "                                              Mischief       0.30      0.11      0.16      1234\n",
      "                              Offence Against a Person       0.99      1.00      1.00       758\n",
      "                                           Other Theft       0.44      0.58      0.50      1739\n",
      "                                    Theft from Vehicle       0.44      0.75      0.55      2103\n",
      "                                      Theft of Bicycle       0.57      0.01      0.02       398\n",
      "                                      Theft of Vehicle       0.00      0.00      0.00       174\n",
      "Vehicle Collision or Pedestrian Struck (with Fatality)       0.00      0.00      0.00         1\n",
      "  Vehicle Collision or Pedestrian Struck (with Injury)       0.22      0.01      0.02       174\n",
      "\n",
      "                                              accuracy                           0.48      7503\n",
      "                                             macro avg       0.33      0.25      0.24      7503\n",
      "                                          weighted avg       0.45      0.48      0.42      7503\n",
      "\n"
     ]
    },
    {
     "name": "stderr",
     "output_type": "stream",
     "text": [
      "/Users/thomas/opt/miniconda3/envs/crime_predictor/lib/python3.9/site-packages/sklearn/metrics/_classification.py:1308: UndefinedMetricWarning: Precision and F-score are ill-defined and being set to 0.0 in labels with no predicted samples. Use `zero_division` parameter to control this behavior.\n",
      "  _warn_prf(average, modifier, msg_start, len(result))\n",
      "/Users/thomas/opt/miniconda3/envs/crime_predictor/lib/python3.9/site-packages/sklearn/metrics/_classification.py:1308: UndefinedMetricWarning: Precision and F-score are ill-defined and being set to 0.0 in labels with no predicted samples. Use `zero_division` parameter to control this behavior.\n",
      "  _warn_prf(average, modifier, msg_start, len(result))\n",
      "/Users/thomas/opt/miniconda3/envs/crime_predictor/lib/python3.9/site-packages/sklearn/metrics/_classification.py:1308: UndefinedMetricWarning: Precision and F-score are ill-defined and being set to 0.0 in labels with no predicted samples. Use `zero_division` parameter to control this behavior.\n",
      "  _warn_prf(average, modifier, msg_start, len(result))\n"
     ]
    }
   ],
   "source": [
    "from sklearn.metrics import classification_report\n",
    "print(classification_report(y_test, pipe.predict(X_test), target_names=pipe.classes_))"
   ]
  },
  {
   "cell_type": "code",
   "execution_count": 31,
   "id": "56c302f1-8b85-41a3-8493-cee74321e125",
   "metadata": {},
   "outputs": [
    {
     "data": {
      "text/plain": [
       "0.757924479978971"
      ]
     },
     "execution_count": 31,
     "metadata": {},
     "output_type": "execute_result"
    }
   ],
   "source": [
    "y_preb_probs = pipe.predict_proba(X_test)\n",
    "roc_auc_score(y_test, y_preb_probs, average=\"weighted\", multi_class=\"ovr\")"
   ]
  },
  {
   "cell_type": "code",
   "execution_count": 33,
   "id": "4c677eca-aefb-4f2a-a525-cfe5caf0ef59",
   "metadata": {},
   "outputs": [
    {
     "data": {
      "text/html": [
       "<div>\n",
       "<style scoped>\n",
       "    .dataframe tbody tr th:only-of-type {\n",
       "        vertical-align: middle;\n",
       "    }\n",
       "\n",
       "    .dataframe tbody tr th {\n",
       "        vertical-align: top;\n",
       "    }\n",
       "\n",
       "    .dataframe thead th {\n",
       "        text-align: right;\n",
       "    }\n",
       "</style>\n",
       "<table border=\"1\" class=\"dataframe\">\n",
       "  <thead>\n",
       "    <tr style=\"text-align: right;\">\n",
       "      <th></th>\n",
       "      <th>fit_time</th>\n",
       "      <th>score_time</th>\n",
       "      <th>test_f1</th>\n",
       "      <th>train_f1</th>\n",
       "    </tr>\n",
       "  </thead>\n",
       "  <tbody>\n",
       "    <tr>\n",
       "      <th>dummy</th>\n",
       "      <td>0.061 (+/- 0.010)</td>\n",
       "      <td>0.042 (+/- 0.002)</td>\n",
       "      <td>0.277 (+/- 0.000)</td>\n",
       "      <td>0.277 (+/- 0.000)</td>\n",
       "    </tr>\n",
       "    <tr>\n",
       "      <th>Logistic Regression</th>\n",
       "      <td>6.664 (+/- 0.168)</td>\n",
       "      <td>0.093 (+/- 0.003)</td>\n",
       "      <td>0.472 (+/- 0.001)</td>\n",
       "      <td>0.479 (+/- 0.001)</td>\n",
       "    </tr>\n",
       "    <tr>\n",
       "      <th>GaussianNB</th>\n",
       "      <td>0.104 (+/- 0.002)</td>\n",
       "      <td>0.078 (+/- 0.001)</td>\n",
       "      <td>0.154 (+/- 0.006)</td>\n",
       "      <td>0.163 (+/- 0.008)</td>\n",
       "    </tr>\n",
       "  </tbody>\n",
       "</table>\n",
       "</div>"
      ],
      "text/plain": [
       "                              fit_time         score_time            test_f1  \\\n",
       "dummy                0.061 (+/- 0.010)  0.042 (+/- 0.002)  0.277 (+/- 0.000)   \n",
       "Logistic Regression  6.664 (+/- 0.168)  0.093 (+/- 0.003)  0.472 (+/- 0.001)   \n",
       "GaussianNB           0.104 (+/- 0.002)  0.078 (+/- 0.001)  0.154 (+/- 0.006)   \n",
       "\n",
       "                              train_f1  \n",
       "dummy                0.277 (+/- 0.000)  \n",
       "Logistic Regression  0.479 (+/- 0.001)  \n",
       "GaussianNB           0.163 (+/- 0.008)  "
      ]
     },
     "execution_count": 33,
     "metadata": {},
     "output_type": "execute_result"
    }
   ],
   "source": [
    "from sklearn.naive_bayes import GaussianNB\n",
    "\n",
    "pipe = make_pipeline(preprocessor, GaussianNB())\n",
    "\n",
    "results[\"GaussianNB\"] = mean_std_cross_val_scores(\n",
    "    pipe, X_train, y_train, cv=5, return_train_score=True, scoring=scoring_metrics\n",
    ")\n",
    "\n",
    "results = pd.DataFrame(results)\n",
    "results.T"
   ]
  },
  {
   "cell_type": "code",
   "execution_count": 36,
   "id": "d9559f14-4ad0-495a-be9e-48f61e1991d8",
   "metadata": {},
   "outputs": [
    {
     "data": {
      "text/html": [
       "<div>\n",
       "<style scoped>\n",
       "    .dataframe tbody tr th:only-of-type {\n",
       "        vertical-align: middle;\n",
       "    }\n",
       "\n",
       "    .dataframe tbody tr th {\n",
       "        vertical-align: top;\n",
       "    }\n",
       "\n",
       "    .dataframe thead th {\n",
       "        text-align: right;\n",
       "    }\n",
       "</style>\n",
       "<table border=\"1\" class=\"dataframe\">\n",
       "  <thead>\n",
       "    <tr style=\"text-align: right;\">\n",
       "      <th></th>\n",
       "      <th>fit_time</th>\n",
       "      <th>score_time</th>\n",
       "      <th>test_f1</th>\n",
       "      <th>train_f1</th>\n",
       "    </tr>\n",
       "  </thead>\n",
       "  <tbody>\n",
       "    <tr>\n",
       "      <th>dummy</th>\n",
       "      <td>0.061 (+/- 0.010)</td>\n",
       "      <td>0.042 (+/- 0.002)</td>\n",
       "      <td>0.277 (+/- 0.000)</td>\n",
       "      <td>0.277 (+/- 0.000)</td>\n",
       "    </tr>\n",
       "    <tr>\n",
       "      <th>Logistic Regression</th>\n",
       "      <td>6.664 (+/- 0.168)</td>\n",
       "      <td>0.093 (+/- 0.003)</td>\n",
       "      <td>0.472 (+/- 0.001)</td>\n",
       "      <td>0.479 (+/- 0.001)</td>\n",
       "    </tr>\n",
       "    <tr>\n",
       "      <th>GaussianNB</th>\n",
       "      <td>0.104 (+/- 0.002)</td>\n",
       "      <td>0.078 (+/- 0.001)</td>\n",
       "      <td>0.154 (+/- 0.006)</td>\n",
       "      <td>0.163 (+/- 0.008)</td>\n",
       "    </tr>\n",
       "    <tr>\n",
       "      <th>RandomForestClassifier</th>\n",
       "      <td>5.224 (+/- 0.079)</td>\n",
       "      <td>0.292 (+/- 0.012)</td>\n",
       "      <td>0.463 (+/- 0.003)</td>\n",
       "      <td>0.981 (+/- 0.001)</td>\n",
       "    </tr>\n",
       "  </tbody>\n",
       "</table>\n",
       "</div>"
      ],
      "text/plain": [
       "                                 fit_time         score_time  \\\n",
       "dummy                   0.061 (+/- 0.010)  0.042 (+/- 0.002)   \n",
       "Logistic Regression     6.664 (+/- 0.168)  0.093 (+/- 0.003)   \n",
       "GaussianNB              0.104 (+/- 0.002)  0.078 (+/- 0.001)   \n",
       "RandomForestClassifier  5.224 (+/- 0.079)  0.292 (+/- 0.012)   \n",
       "\n",
       "                                  test_f1           train_f1  \n",
       "dummy                   0.277 (+/- 0.000)  0.277 (+/- 0.000)  \n",
       "Logistic Regression     0.472 (+/- 0.001)  0.479 (+/- 0.001)  \n",
       "GaussianNB              0.154 (+/- 0.006)  0.163 (+/- 0.008)  \n",
       "RandomForestClassifier  0.463 (+/- 0.003)  0.981 (+/- 0.001)  "
      ]
     },
     "execution_count": 36,
     "metadata": {},
     "output_type": "execute_result"
    }
   ],
   "source": [
    "from sklearn.ensemble import RandomForestClassifier\n",
    "\n",
    "pipe = make_pipeline(preprocessor, RandomForestClassifier())\n",
    "\n",
    "results[\"RandomForestClassifier\"] = mean_std_cross_val_scores(\n",
    "    pipe, X_train, y_train, cv=5, return_train_score=True, scoring=scoring_metrics\n",
    ")\n",
    "\n",
    "results = pd.DataFrame(results)\n",
    "results.T"
   ]
  },
  {
   "cell_type": "code",
   "execution_count": 38,
   "id": "dcefe851-1686-43fa-a79b-d757cdf33889",
   "metadata": {},
   "outputs": [
    {
     "data": {
      "text/html": [
       "<div>\n",
       "<style scoped>\n",
       "    .dataframe tbody tr th:only-of-type {\n",
       "        vertical-align: middle;\n",
       "    }\n",
       "\n",
       "    .dataframe tbody tr th {\n",
       "        vertical-align: top;\n",
       "    }\n",
       "\n",
       "    .dataframe thead th {\n",
       "        text-align: right;\n",
       "    }\n",
       "</style>\n",
       "<table border=\"1\" class=\"dataframe\">\n",
       "  <thead>\n",
       "    <tr style=\"text-align: right;\">\n",
       "      <th></th>\n",
       "      <th>fit_time</th>\n",
       "      <th>score_time</th>\n",
       "      <th>test_f1</th>\n",
       "      <th>train_f1</th>\n",
       "    </tr>\n",
       "  </thead>\n",
       "  <tbody>\n",
       "    <tr>\n",
       "      <th>dummy</th>\n",
       "      <td>0.061 (+/- 0.010)</td>\n",
       "      <td>0.042 (+/- 0.002)</td>\n",
       "      <td>0.277 (+/- 0.000)</td>\n",
       "      <td>0.277 (+/- 0.000)</td>\n",
       "    </tr>\n",
       "    <tr>\n",
       "      <th>Logistic Regression</th>\n",
       "      <td>6.664 (+/- 0.168)</td>\n",
       "      <td>0.093 (+/- 0.003)</td>\n",
       "      <td>0.472 (+/- 0.001)</td>\n",
       "      <td>0.479 (+/- 0.001)</td>\n",
       "    </tr>\n",
       "    <tr>\n",
       "      <th>GaussianNB</th>\n",
       "      <td>0.104 (+/- 0.002)</td>\n",
       "      <td>0.078 (+/- 0.001)</td>\n",
       "      <td>0.154 (+/- 0.006)</td>\n",
       "      <td>0.163 (+/- 0.008)</td>\n",
       "    </tr>\n",
       "    <tr>\n",
       "      <th>RandomForestClassifier</th>\n",
       "      <td>5.224 (+/- 0.079)</td>\n",
       "      <td>0.292 (+/- 0.012)</td>\n",
       "      <td>0.463 (+/- 0.003)</td>\n",
       "      <td>0.981 (+/- 0.001)</td>\n",
       "    </tr>\n",
       "    <tr>\n",
       "      <th>RidgeClassifier</th>\n",
       "      <td>0.184 (+/- 0.018)</td>\n",
       "      <td>0.054 (+/- 0.004)</td>\n",
       "      <td>0.468 (+/- 0.001)</td>\n",
       "      <td>0.474 (+/- 0.001)</td>\n",
       "    </tr>\n",
       "  </tbody>\n",
       "</table>\n",
       "</div>"
      ],
      "text/plain": [
       "                                 fit_time         score_time  \\\n",
       "dummy                   0.061 (+/- 0.010)  0.042 (+/- 0.002)   \n",
       "Logistic Regression     6.664 (+/- 0.168)  0.093 (+/- 0.003)   \n",
       "GaussianNB              0.104 (+/- 0.002)  0.078 (+/- 0.001)   \n",
       "RandomForestClassifier  5.224 (+/- 0.079)  0.292 (+/- 0.012)   \n",
       "RidgeClassifier         0.184 (+/- 0.018)  0.054 (+/- 0.004)   \n",
       "\n",
       "                                  test_f1           train_f1  \n",
       "dummy                   0.277 (+/- 0.000)  0.277 (+/- 0.000)  \n",
       "Logistic Regression     0.472 (+/- 0.001)  0.479 (+/- 0.001)  \n",
       "GaussianNB              0.154 (+/- 0.006)  0.163 (+/- 0.008)  \n",
       "RandomForestClassifier  0.463 (+/- 0.003)  0.981 (+/- 0.001)  \n",
       "RidgeClassifier         0.468 (+/- 0.001)  0.474 (+/- 0.001)  "
      ]
     },
     "execution_count": 38,
     "metadata": {},
     "output_type": "execute_result"
    }
   ],
   "source": [
    "pipe = make_pipeline(preprocessor, RidgeClassifier())\n",
    "\n",
    "results[\"RidgeClassifier\"] = mean_std_cross_val_scores(\n",
    "    pipe, X_train, y_train, cv=5, return_train_score=True, scoring=scoring_metrics\n",
    ")\n",
    "\n",
    "results = pd.DataFrame(results)\n",
    "results.T"
   ]
  }
 ],
 "metadata": {
  "kernelspec": {
   "display_name": "Python [conda env:crime_predictor]",
   "language": "python",
   "name": "conda-env-crime_predictor-py"
  },
  "language_info": {
   "codemirror_mode": {
    "name": "ipython",
    "version": 3
   },
   "file_extension": ".py",
   "mimetype": "text/x-python",
   "name": "python",
   "nbconvert_exporter": "python",
   "pygments_lexer": "ipython3",
   "version": "3.9.7"
  }
 },
 "nbformat": 4,
 "nbformat_minor": 5
}
